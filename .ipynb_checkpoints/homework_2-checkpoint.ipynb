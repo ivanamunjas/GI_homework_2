{
 "cells": [
  {
   "cell_type": "code",
   "execution_count": 12,
   "metadata": {},
   "outputs": [
    {
     "name": "stdout",
     "output_type": "stream",
     "text": [
      "<class 'int'>\n",
      "Number of unmapped reads: 17765\n",
      "Total number of reads: 2921629\n",
      "Numer of reads with 0 mapping quality: 126628\n",
      "Total average mapping quality: 55.91379158681681\n",
      "Average mapping quality, 0 quality filtered out: 58.446975510921106\n"
     ]
    }
   ],
   "source": [
    "import pysam\n",
    "\n",
    "alignment_file = pysam.AlignmentFile(\"merged-tumor.bam\", \"rb\")\n",
    "\n",
    "unmapped = 0\n",
    "total = 0\n",
    "map_qual_zero = 0\n",
    "qual_total = 0\n",
    "\n",
    "for read in alignment_file.fetch(until_eof=True):\n",
    "    total_num += 1\n",
    "    \n",
    "    if total_num == 1:\n",
    "        print(\"Flag value for the first read: \", str(read.flag) + \"\\n\")\n",
    "        \n",
    "    if read.is_unmapped:\n",
    "        unmapped += 1\n",
    "        \n",
    "    if read.mapping_quality == 0:\n",
    "        map_qual_zero += 1\n",
    "        \n",
    "    qual_total += read.mapping_quality\n",
    "    \n",
    "print(\"Number of unmapped reads: \" + str(unmapped) + \"\\n\")\n",
    "print(\"Total number of reads: \" + str(total) + \"\\n\")\n",
    "print(\"Numer of reads with mapping quality 0: \" + str(map_qual_zero) + \"\\n\")\n",
    "\n",
    "avg_map_qual = qual_total/total\n",
    "avg_map_qual_non_zero = qual_total/(total - map_qual_zero)\n",
    "\n",
    "print(\"Total average mapping quality: \" + str(avg_map_qual) + \"\\n\")\n",
    "print(\"Average mapping quality(0 quality reads filtered out): \" + str(avg_map_qual_non_zero) + \"\\n\")"
   ]
  }
 ],
 "metadata": {
  "kernelspec": {
   "display_name": "Python 3",
   "language": "python",
   "name": "python3"
  },
  "language_info": {
   "codemirror_mode": {
    "name": "ipython",
    "version": 3
   },
   "file_extension": ".py",
   "mimetype": "text/x-python",
   "name": "python",
   "nbconvert_exporter": "python",
   "pygments_lexer": "ipython3",
   "version": "3.6.5"
  }
 },
 "nbformat": 4,
 "nbformat_minor": 2
}
